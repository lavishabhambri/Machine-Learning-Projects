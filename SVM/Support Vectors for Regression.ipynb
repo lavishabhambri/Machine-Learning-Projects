{
 "cells": [
  {
   "cell_type": "code",
   "execution_count": 1,
   "metadata": {},
   "outputs": [],
   "source": [
    "from sklearn import svm, datasets\n",
    "from sklearn.model_selection import train_test_split\n",
    "from sklearn.model_selection import GridSearchCV"
   ]
  },
  {
   "cell_type": "code",
   "execution_count": 2,
   "metadata": {},
   "outputs": [],
   "source": [
    "boston = datasets.load_boston()"
   ]
  },
  {
   "cell_type": "code",
   "execution_count": 3,
   "metadata": {},
   "outputs": [],
   "source": [
    "X = boston.data\n",
    "y = boston.target"
   ]
  },
  {
   "cell_type": "code",
   "execution_count": 4,
   "metadata": {},
   "outputs": [],
   "source": [
    "X_train, X_test, y_train, y_test = train_test_split(X, y, test_size=0.33, random_state=42)"
   ]
  },
  {
   "cell_type": "code",
   "execution_count": 5,
   "metadata": {},
   "outputs": [],
   "source": [
    "clf = svm.SVR(kernel = 'rbf')  #rbf kernel"
   ]
  },
  {
   "cell_type": "code",
   "execution_count": 6,
   "metadata": {},
   "outputs": [
    {
     "name": "stderr",
     "output_type": "stream",
     "text": [
      "C:\\Users\\DELL\\anaconda3\\lib\\site-packages\\sklearn\\svm\\base.py:196: FutureWarning: The default value of gamma will change from 'auto' to 'scale' in version 0.22 to account better for unscaled features. Set gamma explicitly to 'auto' or 'scale' to avoid this warning.\n",
      "  \"avoid this warning.\", FutureWarning)\n"
     ]
    },
    {
     "data": {
      "text/plain": [
       "SVR(C=1.0, cache_size=200, coef0=0.0, degree=3, epsilon=0.1,\n",
       "  gamma='auto_deprecated', kernel='rbf', max_iter=-1, shrinking=True,\n",
       "  tol=0.001, verbose=False)"
      ]
     },
     "execution_count": 6,
     "metadata": {},
     "output_type": "execute_result"
    }
   ],
   "source": [
    "clf.fit(X_train, y_train)"
   ]
  },
  {
   "cell_type": "code",
   "execution_count": 7,
   "metadata": {},
   "outputs": [
    {
     "data": {
      "text/plain": [
       "0.0212554013860895"
      ]
     },
     "execution_count": 7,
     "metadata": {},
     "output_type": "execute_result"
    }
   ],
   "source": [
    "clf.score(X_test, y_test)  #Very bad accuracy"
   ]
  },
  {
   "cell_type": "code",
   "execution_count": 8,
   "metadata": {},
   "outputs": [
    {
     "data": {
      "text/plain": [
       "SVR(C=1.0, cache_size=200, coef0=0.0, degree=3, epsilon=0.1,\n",
       "  gamma='auto_deprecated', kernel='linear', max_iter=-1, shrinking=True,\n",
       "  tol=0.001, verbose=False)"
      ]
     },
     "execution_count": 8,
     "metadata": {},
     "output_type": "execute_result"
    }
   ],
   "source": [
    "#kernel = linear\n",
    "clf = svm.SVR(kernel = 'linear')\n",
    "clf.fit(X_train, y_train)"
   ]
  },
  {
   "cell_type": "code",
   "execution_count": 9,
   "metadata": {},
   "outputs": [
    {
     "data": {
      "text/plain": [
       "0.670344007078583"
      ]
     },
     "execution_count": 9,
     "metadata": {},
     "output_type": "execute_result"
    }
   ],
   "source": [
    "clf.score(X_test, y_test)"
   ]
  },
  {
   "cell_type": "markdown",
   "metadata": {},
   "source": [
    "# Using GridSearchCV to find optimal parameters"
   ]
  },
  {
   "cell_type": "code",
   "execution_count": 10,
   "metadata": {},
   "outputs": [],
   "source": [
    "clf = svm.SVR()\n",
    "grid = {'C' : [1e2, 1e3, 5e3, 1e4, 5e4, 1e5], \n",
    "       'gamma' : [1e-3, 5e-4, 1e-4, 5e-3]}"
   ]
  },
  {
   "cell_type": "code",
   "execution_count": 11,
   "metadata": {},
   "outputs": [],
   "source": [
    "abc = GridSearchCV(clf, grid)"
   ]
  },
  {
   "cell_type": "code",
   "execution_count": 12,
   "metadata": {},
   "outputs": [
    {
     "name": "stderr",
     "output_type": "stream",
     "text": [
      "C:\\Users\\DELL\\anaconda3\\lib\\site-packages\\sklearn\\model_selection\\_split.py:2053: FutureWarning: You should specify a value for 'cv' instead of relying on the default value. The default value will change from 3 to 5 in version 0.22.\n",
      "  warnings.warn(CV_WARNING, FutureWarning)\n"
     ]
    },
    {
     "data": {
      "text/plain": [
       "GridSearchCV(cv='warn', error_score='raise-deprecating',\n",
       "       estimator=SVR(C=1.0, cache_size=200, coef0=0.0, degree=3, epsilon=0.1,\n",
       "  gamma='auto_deprecated', kernel='rbf', max_iter=-1, shrinking=True,\n",
       "  tol=0.001, verbose=False),\n",
       "       fit_params=None, iid='warn', n_jobs=None,\n",
       "       param_grid={'C': [100.0, 1000.0, 5000.0, 10000.0, 50000.0, 100000.0], 'gamma': [0.001, 0.0005, 0.0001, 0.005]},\n",
       "       pre_dispatch='2*n_jobs', refit=True, return_train_score='warn',\n",
       "       scoring=None, verbose=0)"
      ]
     },
     "execution_count": 12,
     "metadata": {},
     "output_type": "execute_result"
    }
   ],
   "source": [
    "abc.fit(X_train, y_train)"
   ]
  },
  {
   "cell_type": "code",
   "execution_count": 13,
   "metadata": {},
   "outputs": [
    {
     "data": {
      "text/plain": [
       "SVR(C=1000.0, cache_size=200, coef0=0.0, degree=3, epsilon=0.1, gamma=0.0001,\n",
       "  kernel='rbf', max_iter=-1, shrinking=True, tol=0.001, verbose=False)"
      ]
     },
     "execution_count": 13,
     "metadata": {},
     "output_type": "execute_result"
    }
   ],
   "source": [
    "abc.best_estimator_"
   ]
  },
  {
   "cell_type": "code",
   "execution_count": 14,
   "metadata": {},
   "outputs": [
    {
     "name": "stderr",
     "output_type": "stream",
     "text": [
      "C:\\Users\\DELL\\anaconda3\\lib\\site-packages\\sklearn\\utils\\deprecation.py:125: FutureWarning: You are accessing a training score ('split0_train_score'), which will not be available by default any more in 0.21. If you need training scores, please set return_train_score=True\n",
      "  warnings.warn(*warn_args, **warn_kwargs)\n",
      "C:\\Users\\DELL\\anaconda3\\lib\\site-packages\\sklearn\\utils\\deprecation.py:125: FutureWarning: You are accessing a training score ('split1_train_score'), which will not be available by default any more in 0.21. If you need training scores, please set return_train_score=True\n",
      "  warnings.warn(*warn_args, **warn_kwargs)\n",
      "C:\\Users\\DELL\\anaconda3\\lib\\site-packages\\sklearn\\utils\\deprecation.py:125: FutureWarning: You are accessing a training score ('split2_train_score'), which will not be available by default any more in 0.21. If you need training scores, please set return_train_score=True\n",
      "  warnings.warn(*warn_args, **warn_kwargs)\n",
      "C:\\Users\\DELL\\anaconda3\\lib\\site-packages\\sklearn\\utils\\deprecation.py:125: FutureWarning: You are accessing a training score ('mean_train_score'), which will not be available by default any more in 0.21. If you need training scores, please set return_train_score=True\n",
      "  warnings.warn(*warn_args, **warn_kwargs)\n",
      "C:\\Users\\DELL\\anaconda3\\lib\\site-packages\\sklearn\\utils\\deprecation.py:125: FutureWarning: You are accessing a training score ('std_train_score'), which will not be available by default any more in 0.21. If you need training scores, please set return_train_score=True\n",
      "  warnings.warn(*warn_args, **warn_kwargs)\n"
     ]
    },
    {
     "data": {
      "text/plain": [
       "{'mean_fit_time': array([0.02232059, 0.03864241, 0.01365821, 0.01832231, 0.06229544,\n",
       "        0.1262668 , 0.06429696, 0.0263106 , 0.13059664, 0.41942088,\n",
       "        0.45373297, 0.03464556, 0.17822901, 0.62097605, 0.60331313,\n",
       "        0.03864328, 0.23887054, 0.83785454, 1.97652594, 0.02898224,\n",
       "        0.28017465, 1.0963707 , 2.74443523, 0.03197503]),\n",
       " 'std_fit_time': array([0.00188644, 0.01013609, 0.00169524, 0.00123696, 0.00939427,\n",
       "        0.01033665, 0.00249279, 0.00286673, 0.00704423, 0.02048457,\n",
       "        0.06909644, 0.00188599, 0.01460698, 0.14181462, 0.0995481 ,\n",
       "        0.00478149, 0.05836856, 0.05150673, 0.14095291, 0.00431808,\n",
       "        0.11568035, 0.149335  , 0.18820131, 0.0029396 ]),\n",
       " 'mean_score_time': array([0.00233269, 0.00266679, 0.00199914, 0.00266568, 0.00199906,\n",
       "        0.00200009, 0.00166623, 0.00233173, 0.00199938, 0.00167155,\n",
       "        0.0023396 , 0.00333246, 0.002666  , 0.00233444, 0.00233261,\n",
       "        0.0033315 , 0.00199938, 0.00199874, 0.0019989 , 0.00299907,\n",
       "        0.00266266, 0.00199986, 0.00199993, 0.0023315 ]),\n",
       " 'std_score_time': array([4.71202259e-04, 4.71763734e-04, 3.37174788e-07, 4.71314409e-04,\n",
       "        6.83651389e-07, 5.15042996e-07, 4.71314650e-04, 4.71538951e-04,\n",
       "        9.73339773e-07, 4.75146316e-04, 4.67382800e-04, 4.71147018e-04,\n",
       "        9.41729264e-04, 4.73505954e-04, 4.71763734e-04, 4.71146214e-04,\n",
       "        5.15042996e-07, 2.97360213e-07, 8.48537942e-07, 3.89335909e-07,\n",
       "        9.43418994e-04, 7.01885292e-07, 2.24783192e-07, 4.71538951e-04]),\n",
       " 'param_C': masked_array(data=[100.0, 100.0, 100.0, 100.0, 1000.0, 1000.0, 1000.0,\n",
       "                    1000.0, 5000.0, 5000.0, 5000.0, 5000.0, 10000.0,\n",
       "                    10000.0, 10000.0, 10000.0, 50000.0, 50000.0, 50000.0,\n",
       "                    50000.0, 100000.0, 100000.0, 100000.0, 100000.0],\n",
       "              mask=[False, False, False, False, False, False, False, False,\n",
       "                    False, False, False, False, False, False, False, False,\n",
       "                    False, False, False, False, False, False, False, False],\n",
       "        fill_value='?',\n",
       "             dtype=object),\n",
       " 'param_gamma': masked_array(data=[0.001, 0.0005, 0.0001, 0.005, 0.001, 0.0005, 0.0001,\n",
       "                    0.005, 0.001, 0.0005, 0.0001, 0.005, 0.001, 0.0005,\n",
       "                    0.0001, 0.005, 0.001, 0.0005, 0.0001, 0.005, 0.001,\n",
       "                    0.0005, 0.0001, 0.005],\n",
       "              mask=[False, False, False, False, False, False, False, False,\n",
       "                    False, False, False, False, False, False, False, False,\n",
       "                    False, False, False, False, False, False, False, False],\n",
       "        fill_value='?',\n",
       "             dtype=object),\n",
       " 'params': [{'C': 100.0, 'gamma': 0.001},\n",
       "  {'C': 100.0, 'gamma': 0.0005},\n",
       "  {'C': 100.0, 'gamma': 0.0001},\n",
       "  {'C': 100.0, 'gamma': 0.005},\n",
       "  {'C': 1000.0, 'gamma': 0.001},\n",
       "  {'C': 1000.0, 'gamma': 0.0005},\n",
       "  {'C': 1000.0, 'gamma': 0.0001},\n",
       "  {'C': 1000.0, 'gamma': 0.005},\n",
       "  {'C': 5000.0, 'gamma': 0.001},\n",
       "  {'C': 5000.0, 'gamma': 0.0005},\n",
       "  {'C': 5000.0, 'gamma': 0.0001},\n",
       "  {'C': 5000.0, 'gamma': 0.005},\n",
       "  {'C': 10000.0, 'gamma': 0.001},\n",
       "  {'C': 10000.0, 'gamma': 0.0005},\n",
       "  {'C': 10000.0, 'gamma': 0.0001},\n",
       "  {'C': 10000.0, 'gamma': 0.005},\n",
       "  {'C': 50000.0, 'gamma': 0.001},\n",
       "  {'C': 50000.0, 'gamma': 0.0005},\n",
       "  {'C': 50000.0, 'gamma': 0.0001},\n",
       "  {'C': 50000.0, 'gamma': 0.005},\n",
       "  {'C': 100000.0, 'gamma': 0.001},\n",
       "  {'C': 100000.0, 'gamma': 0.0005},\n",
       "  {'C': 100000.0, 'gamma': 0.0001},\n",
       "  {'C': 100000.0, 'gamma': 0.005}],\n",
       " 'split0_test_score': array([ 0.55700195,  0.60368437,  0.55933115,  0.45685098,  0.45349965,\n",
       "         0.39158646,  0.67553328,  0.44687916,  0.36481751,  0.29246499,\n",
       "         0.60481357,  0.44687916,  0.35772298,  0.21746101,  0.56267445,\n",
       "         0.44687916,  0.31878965,  0.15661564, -0.15868609,  0.44687916,\n",
       "         0.31878965,  0.1414622 , -0.24952739,  0.44687916]),\n",
       " 'split1_test_score': array([ 0.5109615 ,  0.5413782 ,  0.56763517,  0.31040607,  0.44059731,\n",
       "         0.60042045,  0.73455509,  0.25228496,  0.30855292,  0.37659387,\n",
       "         0.73738709,  0.24000135,  0.13635612,  0.3455873 ,  0.69407387,\n",
       "         0.24000135, -0.20805562,  0.08541519,  0.42062972,  0.24000135,\n",
       "        -0.20805562, -0.14853637,  0.34036528,  0.24000135]),\n",
       " 'split2_test_score': array([ 0.4818926 ,  0.55743472,  0.52393149,  0.40598876,  0.32681959,\n",
       "         0.37355037,  0.5288655 ,  0.36763419,  0.16148426,  0.23732658,\n",
       "         0.52773226,  0.36763419,  0.17638098,  0.11182451,  0.38259917,\n",
       "         0.36763419,  0.18411464, -0.02179466, -0.55730195,  0.36763419,\n",
       "         0.18411464,  0.00612124, -1.18488023,  0.36763419]),\n",
       " 'mean_test_score': array([ 5.16618685e-01,  5.67499096e-01,  5.50299269e-01,  3.91081938e-01,\n",
       "         4.06972182e-01,  4.55185761e-01,  6.46317959e-01,  3.55599433e-01,\n",
       "         2.78284899e-01,  3.02128480e-01,  6.23310973e-01,  3.51504896e-01,\n",
       "         2.23486694e-01,  2.24957609e-01,  5.46449160e-01,  3.51504896e-01,\n",
       "         9.82828913e-02,  7.34120559e-02, -9.84527754e-02,  3.51504896e-01,\n",
       "         9.82828913e-02, -3.17642086e-04, -3.64680779e-01,  3.51504896e-01]),\n",
       " 'std_test_score': array([0.03092309, 0.02641317, 0.01895054, 0.06070798, 0.05692068,\n",
       "        0.10296006, 0.08647621, 0.07989723, 0.08572521, 0.05726478,\n",
       "        0.08658484, 0.08522411, 0.09631557, 0.09558037, 0.12767554,\n",
       "        0.08522411, 0.22348274, 0.07332855, 0.40150436, 0.08522411,\n",
       "        0.22348274, 0.11847893, 0.6279802 , 0.08522411]),\n",
       " 'rank_test_score': array([ 6,  3,  4,  9,  8,  7,  1, 10, 16, 15,  2, 11, 18, 17,  5, 11, 19,\n",
       "        21, 23, 11, 19, 22, 24, 11]),\n",
       " 'split0_train_score': array([0.93745044, 0.89114704, 0.70913819, 0.99849419, 0.99565663,\n",
       "        0.97658454, 0.8987389 , 0.99988693, 0.99979725, 0.99654083,\n",
       "        0.94586803, 0.99988693, 0.99983894, 0.99865564, 0.9608237 ,\n",
       "        0.99988693, 0.99988844, 0.99983825, 0.98327646, 0.99988693,\n",
       "        0.99988844, 0.99986608, 0.98733995, 0.99988693]),\n",
       " 'split1_train_score': array([0.9312759 , 0.87889322, 0.6782121 , 0.99609261, 0.9915654 ,\n",
       "        0.96648199, 0.86520124, 0.99979259, 0.99737434, 0.99069102,\n",
       "        0.93860423, 0.99987433, 0.99918386, 0.99331467, 0.94846138,\n",
       "        0.99987433, 0.99987553, 0.99859454, 0.95890125, 0.99987433,\n",
       "        0.99987553, 0.99948354, 0.97054624, 0.99987433]),\n",
       " 'split2_train_score': array([0.95990104, 0.89773177, 0.72800648, 0.99773352, 0.99518351,\n",
       "        0.98562078, 0.87810425, 0.99989755, 0.99976145, 0.99598791,\n",
       "        0.96096371, 0.99989755, 0.99984922, 0.99852793, 0.97096123,\n",
       "        0.99989755, 0.99989871, 0.99983209, 0.98387604, 0.99989755,\n",
       "        0.99989871, 0.99989362, 0.98865524, 0.99989755]),\n",
       " 'mean_train_score': array([0.94287579, 0.88925735, 0.70511892, 0.99744011, 0.99413518,\n",
       "        0.9762291 , 0.88068147, 0.99985902, 0.99897768, 0.99440659,\n",
       "        0.94847865, 0.99988627, 0.99962401, 0.99683275, 0.9600821 ,\n",
       "        0.99988627, 0.99988756, 0.99942163, 0.97535125, 0.99988627,\n",
       "        0.99988756, 0.99974775, 0.98218048, 0.99988627]),\n",
       " 'std_train_score': array([1.22997444e-02, 7.80602190e-03, 2.05261776e-02, 1.00215140e-03,\n",
       "        1.82734706e-03, 7.81741742e-03, 1.38124395e-02, 4.71766829e-05,\n",
       "        1.13382608e-03, 2.63698025e-03, 9.31300461e-03, 9.49166802e-06,\n",
       "        3.11260636e-04, 2.48820440e-03, 9.20048200e-03, 9.49166802e-06,\n",
       "        9.48370856e-06, 5.84842357e-04, 1.16344827e-02, 9.49166802e-06,\n",
       "        9.48370856e-06, 1.87158075e-04, 8.24415270e-03, 9.49166802e-06])}"
      ]
     },
     "execution_count": 14,
     "metadata": {},
     "output_type": "execute_result"
    }
   ],
   "source": [
    "abc.cv_results_"
   ]
  },
  {
   "cell_type": "code",
   "execution_count": 15,
   "metadata": {},
   "outputs": [
    {
     "data": {
      "text/plain": [
       "SVR(C=1000, cache_size=200, coef0=0.0, degree=3, epsilon=0.1, gamma=0.0001,\n",
       "  kernel='rbf', max_iter=-1, shrinking=True, tol=0.001, verbose=False)"
      ]
     },
     "execution_count": 15,
     "metadata": {},
     "output_type": "execute_result"
    }
   ],
   "source": [
    "#Fitting the model using optimal parameters\n",
    "clf = svm.SVR(C = 1000, gamma = 0.0001)\n",
    "clf.fit(X_train, y_train)"
   ]
  },
  {
   "cell_type": "code",
   "execution_count": 16,
   "metadata": {},
   "outputs": [
    {
     "data": {
      "text/plain": [
       "0.7902510501268216"
      ]
     },
     "execution_count": 16,
     "metadata": {},
     "output_type": "execute_result"
    }
   ],
   "source": [
    "clf.score(X_test, y_test)  #This is the best accuracy for the optimal C and gamma"
   ]
  }
 ],
 "metadata": {
  "kernelspec": {
   "display_name": "Python 3",
   "language": "python",
   "name": "python3"
  },
  "language_info": {
   "codemirror_mode": {
    "name": "ipython",
    "version": 3
   },
   "file_extension": ".py",
   "mimetype": "text/x-python",
   "name": "python",
   "nbconvert_exporter": "python",
   "pygments_lexer": "ipython3",
   "version": "3.7.6"
  }
 },
 "nbformat": 4,
 "nbformat_minor": 4
}
