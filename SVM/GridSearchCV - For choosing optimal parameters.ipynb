{
 "cells": [
  {
   "cell_type": "markdown",
   "metadata": {},
   "source": [
    "# Finding best parameters for KNN"
   ]
  },
  {
   "cell_type": "code",
   "execution_count": 2,
   "metadata": {},
   "outputs": [],
   "source": [
    "from sklearn import svm, datasets\n",
    "from sklearn.model_selection import train_test_split\n",
    "from sklearn.model_selection import GridSearchCV\n",
    "from sklearn.neighbors import KNeighborsClassifier"
   ]
  },
  {
   "cell_type": "code",
   "execution_count": 3,
   "metadata": {},
   "outputs": [],
   "source": [
    "iris = datasets.load_iris()\n",
    "X = iris.data\n",
    "y = iris.target"
   ]
  },
  {
   "cell_type": "code",
   "execution_count": 5,
   "metadata": {},
   "outputs": [],
   "source": [
    "X_train, X_test, y_train, y_test = train_test_split(X, y, test_size=0.33, random_state=42)"
   ]
  },
  {
   "cell_type": "code",
   "execution_count": 6,
   "metadata": {},
   "outputs": [],
   "source": [
    "clf = KNeighborsClassifier()"
   ]
  },
  {
   "cell_type": "code",
   "execution_count": 8,
   "metadata": {},
   "outputs": [],
   "source": [
    "grid = {'n_neighbors' : [3, 5, 7, 9, 11, 13, 15]}"
   ]
  },
  {
   "cell_type": "code",
   "execution_count": 9,
   "metadata": {},
   "outputs": [],
   "source": [
    "abc = GridSearchCV(clf, grid)"
   ]
  },
  {
   "cell_type": "code",
   "execution_count": 10,
   "metadata": {},
   "outputs": [
    {
     "name": "stderr",
     "output_type": "stream",
     "text": [
      "C:\\Users\\DELL\\anaconda3\\lib\\site-packages\\sklearn\\model_selection\\_split.py:2053: FutureWarning: You should specify a value for 'cv' instead of relying on the default value. The default value will change from 3 to 5 in version 0.22.\n",
      "  warnings.warn(CV_WARNING, FutureWarning)\n",
      "C:\\Users\\DELL\\anaconda3\\lib\\site-packages\\sklearn\\model_selection\\_search.py:841: DeprecationWarning: The default of the `iid` parameter will change from True to False in version 0.22 and will be removed in 0.24. This will change numeric results when test-set sizes are unequal.\n",
      "  DeprecationWarning)\n"
     ]
    },
    {
     "data": {
      "text/plain": [
       "GridSearchCV(cv='warn', error_score='raise-deprecating',\n",
       "       estimator=KNeighborsClassifier(algorithm='auto', leaf_size=30, metric='minkowski',\n",
       "           metric_params=None, n_jobs=None, n_neighbors=5, p=2,\n",
       "           weights='uniform'),\n",
       "       fit_params=None, iid='warn', n_jobs=None,\n",
       "       param_grid={'n_neighbors': [3, 5, 7, 9, 11, 13, 15]},\n",
       "       pre_dispatch='2*n_jobs', refit=True, return_train_score='warn',\n",
       "       scoring=None, verbose=0)"
      ]
     },
     "execution_count": 10,
     "metadata": {},
     "output_type": "execute_result"
    }
   ],
   "source": [
    "abc.fit(X_train , y_train)"
   ]
  },
  {
   "cell_type": "code",
   "execution_count": 11,
   "metadata": {},
   "outputs": [
    {
     "data": {
      "text/plain": [
       "KNeighborsClassifier(algorithm='auto', leaf_size=30, metric='minkowski',\n",
       "           metric_params=None, n_jobs=None, n_neighbors=3, p=2,\n",
       "           weights='uniform')"
      ]
     },
     "execution_count": 11,
     "metadata": {},
     "output_type": "execute_result"
    }
   ],
   "source": [
    "abc.best_estimator_"
   ]
  },
  {
   "cell_type": "code",
   "execution_count": 12,
   "metadata": {},
   "outputs": [
    {
     "name": "stderr",
     "output_type": "stream",
     "text": [
      "C:\\Users\\DELL\\anaconda3\\lib\\site-packages\\sklearn\\utils\\deprecation.py:125: FutureWarning: You are accessing a training score ('split0_train_score'), which will not be available by default any more in 0.21. If you need training scores, please set return_train_score=True\n",
      "  warnings.warn(*warn_args, **warn_kwargs)\n",
      "C:\\Users\\DELL\\anaconda3\\lib\\site-packages\\sklearn\\utils\\deprecation.py:125: FutureWarning: You are accessing a training score ('split1_train_score'), which will not be available by default any more in 0.21. If you need training scores, please set return_train_score=True\n",
      "  warnings.warn(*warn_args, **warn_kwargs)\n",
      "C:\\Users\\DELL\\anaconda3\\lib\\site-packages\\sklearn\\utils\\deprecation.py:125: FutureWarning: You are accessing a training score ('split2_train_score'), which will not be available by default any more in 0.21. If you need training scores, please set return_train_score=True\n",
      "  warnings.warn(*warn_args, **warn_kwargs)\n",
      "C:\\Users\\DELL\\anaconda3\\lib\\site-packages\\sklearn\\utils\\deprecation.py:125: FutureWarning: You are accessing a training score ('mean_train_score'), which will not be available by default any more in 0.21. If you need training scores, please set return_train_score=True\n",
      "  warnings.warn(*warn_args, **warn_kwargs)\n",
      "C:\\Users\\DELL\\anaconda3\\lib\\site-packages\\sklearn\\utils\\deprecation.py:125: FutureWarning: You are accessing a training score ('std_train_score'), which will not be available by default any more in 0.21. If you need training scores, please set return_train_score=True\n",
      "  warnings.warn(*warn_args, **warn_kwargs)\n"
     ]
    },
    {
     "data": {
      "text/plain": [
       "{'mean_fit_time': array([0.00066582, 0.00099953, 0.        , 0.00066622, 0.00066646,\n",
       "        0.        , 0.0006601 ]),\n",
       " 'std_fit_time': array([4.70809402e-04, 2.24783192e-07, 0.00000000e+00, 4.71089626e-04,\n",
       "        4.71258002e-04, 0.00000000e+00, 4.66833901e-04]),\n",
       " 'mean_score_time': array([0.00599535, 0.00299724, 0.00300439, 0.00332491, 0.0029978 ,\n",
       "        0.00366449, 0.00667373]),\n",
       " 'std_score_time': array([2.94243817e-03, 2.24783192e-07, 8.03658856e-06, 4.75875136e-04,\n",
       "        1.12391596e-07, 4.71201776e-04, 4.50990612e-03]),\n",
       " 'param_n_neighbors': masked_array(data=[3, 5, 7, 9, 11, 13, 15],\n",
       "              mask=[False, False, False, False, False, False, False],\n",
       "        fill_value='?',\n",
       "             dtype=object),\n",
       " 'params': [{'n_neighbors': 3},\n",
       "  {'n_neighbors': 5},\n",
       "  {'n_neighbors': 7},\n",
       "  {'n_neighbors': 9},\n",
       "  {'n_neighbors': 11},\n",
       "  {'n_neighbors': 13},\n",
       "  {'n_neighbors': 15}],\n",
       " 'split0_test_score': array([0.97142857, 0.94285714, 0.94285714, 0.94285714, 0.94285714,\n",
       "        0.94285714, 0.94285714]),\n",
       " 'split1_test_score': array([0.87878788, 0.90909091, 0.87878788, 0.87878788, 0.87878788,\n",
       "        0.87878788, 0.84848485]),\n",
       " 'split2_test_score': array([0.96875, 0.96875, 0.9375 , 0.9375 , 0.9375 , 0.9375 , 0.9375 ]),\n",
       " 'mean_test_score': array([0.94, 0.94, 0.92, 0.92, 0.92, 0.92, 0.91]),\n",
       " 'std_test_score': array([0.04297324, 0.02413773, 0.0290059 , 0.0290059 , 0.0290059 ,\n",
       "        0.0290059 , 0.04322748]),\n",
       " 'rank_test_score': array([1, 1, 3, 3, 3, 3, 7]),\n",
       " 'split0_train_score': array([0.92307692, 0.95384615, 0.92307692, 0.95384615, 0.92307692,\n",
       "        0.92307692, 0.95384615]),\n",
       " 'split1_train_score': array([0.98507463, 0.98507463, 0.98507463, 0.97014925, 0.97014925,\n",
       "        0.97014925, 0.97014925]),\n",
       " 'split2_train_score': array([0.94117647, 0.95588235, 0.95588235, 0.94117647, 0.94117647,\n",
       "        0.91176471, 0.95588235]),\n",
       " 'mean_train_score': array([0.94977601, 0.96493438, 0.95467797, 0.95505729, 0.94480088,\n",
       "        0.93499696, 0.95995925]),\n",
       " 'std_train_score': array([0.02603066, 0.01426555, 0.02532478, 0.01185905, 0.01938734,\n",
       "        0.0252818 , 0.00725321])}"
      ]
     },
     "execution_count": 12,
     "metadata": {},
     "output_type": "execute_result"
    }
   ],
   "source": [
    "abc.cv_results_"
   ]
  },
  {
   "cell_type": "markdown",
   "metadata": {},
   "source": [
    "# Finding best parameters for SVC"
   ]
  },
  {
   "cell_type": "code",
   "execution_count": 13,
   "metadata": {},
   "outputs": [],
   "source": [
    "clf = svm.SVC()"
   ]
  },
  {
   "cell_type": "code",
   "execution_count": 14,
   "metadata": {},
   "outputs": [],
   "source": [
    "grid = {'C' : [1e2, 1e3, 5e3, 1e4, 5e4, 1e5], \n",
    "       'gamma' : [1e-3, 5e-4, 1e-4, 5e-3]}"
   ]
  },
  {
   "cell_type": "code",
   "execution_count": 15,
   "metadata": {},
   "outputs": [],
   "source": [
    "abc = GridSearchCV(clf, grid)"
   ]
  },
  {
   "cell_type": "code",
   "execution_count": 16,
   "metadata": {},
   "outputs": [
    {
     "name": "stderr",
     "output_type": "stream",
     "text": [
      "C:\\Users\\DELL\\anaconda3\\lib\\site-packages\\sklearn\\model_selection\\_split.py:2053: FutureWarning: You should specify a value for 'cv' instead of relying on the default value. The default value will change from 3 to 5 in version 0.22.\n",
      "  warnings.warn(CV_WARNING, FutureWarning)\n",
      "C:\\Users\\DELL\\anaconda3\\lib\\site-packages\\sklearn\\model_selection\\_search.py:841: DeprecationWarning: The default of the `iid` parameter will change from True to False in version 0.22 and will be removed in 0.24. This will change numeric results when test-set sizes are unequal.\n",
      "  DeprecationWarning)\n"
     ]
    },
    {
     "data": {
      "text/plain": [
       "GridSearchCV(cv='warn', error_score='raise-deprecating',\n",
       "       estimator=SVC(C=1.0, cache_size=200, class_weight=None, coef0=0.0,\n",
       "  decision_function_shape='ovr', degree=3, gamma='auto_deprecated',\n",
       "  kernel='rbf', max_iter=-1, probability=False, random_state=None,\n",
       "  shrinking=True, tol=0.001, verbose=False),\n",
       "       fit_params=None, iid='warn', n_jobs=None,\n",
       "       param_grid={'C': [100.0, 1000.0, 5000.0, 10000.0, 50000.0, 100000.0], 'gamma': [0.001, 0.0005, 0.0001, 0.005]},\n",
       "       pre_dispatch='2*n_jobs', refit=True, return_train_score='warn',\n",
       "       scoring=None, verbose=0)"
      ]
     },
     "execution_count": 16,
     "metadata": {},
     "output_type": "execute_result"
    }
   ],
   "source": [
    "abc.fit(X_train, y_train)"
   ]
  },
  {
   "cell_type": "code",
   "execution_count": 19,
   "metadata": {},
   "outputs": [
    {
     "data": {
      "text/plain": [
       "SVC(C=1000.0, cache_size=200, class_weight=None, coef0=0.0,\n",
       "  decision_function_shape='ovr', degree=3, gamma=0.001, kernel='rbf',\n",
       "  max_iter=-1, probability=False, random_state=None, shrinking=True,\n",
       "  tol=0.001, verbose=False)"
      ]
     },
     "execution_count": 19,
     "metadata": {},
     "output_type": "execute_result"
    }
   ],
   "source": [
    "abc.best_estimator_"
   ]
  },
  {
   "cell_type": "code",
   "execution_count": 20,
   "metadata": {},
   "outputs": [
    {
     "name": "stderr",
     "output_type": "stream",
     "text": [
      "C:\\Users\\DELL\\anaconda3\\lib\\site-packages\\sklearn\\utils\\deprecation.py:125: FutureWarning: You are accessing a training score ('split0_train_score'), which will not be available by default any more in 0.21. If you need training scores, please set return_train_score=True\n",
      "  warnings.warn(*warn_args, **warn_kwargs)\n",
      "C:\\Users\\DELL\\anaconda3\\lib\\site-packages\\sklearn\\utils\\deprecation.py:125: FutureWarning: You are accessing a training score ('split1_train_score'), which will not be available by default any more in 0.21. If you need training scores, please set return_train_score=True\n",
      "  warnings.warn(*warn_args, **warn_kwargs)\n",
      "C:\\Users\\DELL\\anaconda3\\lib\\site-packages\\sklearn\\utils\\deprecation.py:125: FutureWarning: You are accessing a training score ('split2_train_score'), which will not be available by default any more in 0.21. If you need training scores, please set return_train_score=True\n",
      "  warnings.warn(*warn_args, **warn_kwargs)\n",
      "C:\\Users\\DELL\\anaconda3\\lib\\site-packages\\sklearn\\utils\\deprecation.py:125: FutureWarning: You are accessing a training score ('mean_train_score'), which will not be available by default any more in 0.21. If you need training scores, please set return_train_score=True\n",
      "  warnings.warn(*warn_args, **warn_kwargs)\n",
      "C:\\Users\\DELL\\anaconda3\\lib\\site-packages\\sklearn\\utils\\deprecation.py:125: FutureWarning: You are accessing a training score ('std_train_score'), which will not be available by default any more in 0.21. If you need training scores, please set return_train_score=True\n",
      "  warnings.warn(*warn_args, **warn_kwargs)\n"
     ]
    },
    {
     "data": {
      "text/plain": [
       "{'mean_fit_time': array([0.00166639, 0.00066868, 0.00133483, 0.00066654, 0.00100017,\n",
       "        0.0006663 , 0.00066749, 0.00099945, 0.00099937, 0.00066638,\n",
       "        0.0006663 , 0.00067218, 0.00033307, 0.00099961, 0.00066606,\n",
       "        0.00066662, 0.00099905, 0.00066646, 0.00033307, 0.00099961,\n",
       "        0.00033267, 0.00066646, 0.00099929, 0.00066646]),\n",
       " 'std_fit_time': array([9.42347583e-04, 4.72831444e-04, 1.24950804e-03, 4.71315374e-04,\n",
       "        5.15042996e-07, 4.71145571e-04, 4.71990766e-04, 0.00000000e+00,\n",
       "        1.12391596e-07, 4.71201776e-04, 4.71145611e-04, 4.75358631e-04,\n",
       "        4.71033179e-04, 4.05233662e-07, 4.70977074e-04, 4.71370354e-04,\n",
       "        2.97360213e-07, 4.71258123e-04, 4.71033179e-04, 4.05233662e-07,\n",
       "        4.70471221e-04, 4.71257962e-04, 2.97360213e-07, 4.71257962e-04]),\n",
       " 'mean_score_time': array([0.00100048, 0.00133403, 0.00066646, 0.00066606, 0.00065883,\n",
       "        0.00033315, 0.0006667 , 0.        , 0.0006663 , 0.00033315,\n",
       "        0.00033347, 0.00065939, 0.00066646, 0.00033315, 0.00033323,\n",
       "        0.00066614, 0.00033315, 0.00033347, 0.00099953, 0.00033291,\n",
       "        0.00099945, 0.00033291, 0.        , 0.00066654]),\n",
       " 'std_score_time': array([9.60274217e-07, 4.73337297e-04, 4.71257962e-04, 4.70978683e-04,\n",
       "        4.65956865e-04, 4.71145571e-04, 4.71426560e-04, 0.00000000e+00,\n",
       "        4.71145611e-04, 4.71145571e-04, 4.71595137e-04, 4.66329933e-04,\n",
       "        4.71258002e-04, 4.71145571e-04, 4.71257962e-04, 4.71033219e-04,\n",
       "        4.71145571e-04, 4.71595137e-04, 1.12391596e-07, 4.70808396e-04,\n",
       "        5.15042996e-07, 4.70808396e-04, 0.00000000e+00, 4.71314168e-04]),\n",
       " 'param_C': masked_array(data=[100.0, 100.0, 100.0, 100.0, 1000.0, 1000.0, 1000.0,\n",
       "                    1000.0, 5000.0, 5000.0, 5000.0, 5000.0, 10000.0,\n",
       "                    10000.0, 10000.0, 10000.0, 50000.0, 50000.0, 50000.0,\n",
       "                    50000.0, 100000.0, 100000.0, 100000.0, 100000.0],\n",
       "              mask=[False, False, False, False, False, False, False, False,\n",
       "                    False, False, False, False, False, False, False, False,\n",
       "                    False, False, False, False, False, False, False, False],\n",
       "        fill_value='?',\n",
       "             dtype=object),\n",
       " 'param_gamma': masked_array(data=[0.001, 0.0005, 0.0001, 0.005, 0.001, 0.0005, 0.0001,\n",
       "                    0.005, 0.001, 0.0005, 0.0001, 0.005, 0.001, 0.0005,\n",
       "                    0.0001, 0.005, 0.001, 0.0005, 0.0001, 0.005, 0.001,\n",
       "                    0.0005, 0.0001, 0.005],\n",
       "              mask=[False, False, False, False, False, False, False, False,\n",
       "                    False, False, False, False, False, False, False, False,\n",
       "                    False, False, False, False, False, False, False, False],\n",
       "        fill_value='?',\n",
       "             dtype=object),\n",
       " 'params': [{'C': 100.0, 'gamma': 0.001},\n",
       "  {'C': 100.0, 'gamma': 0.0005},\n",
       "  {'C': 100.0, 'gamma': 0.0001},\n",
       "  {'C': 100.0, 'gamma': 0.005},\n",
       "  {'C': 1000.0, 'gamma': 0.001},\n",
       "  {'C': 1000.0, 'gamma': 0.0005},\n",
       "  {'C': 1000.0, 'gamma': 0.0001},\n",
       "  {'C': 1000.0, 'gamma': 0.005},\n",
       "  {'C': 5000.0, 'gamma': 0.001},\n",
       "  {'C': 5000.0, 'gamma': 0.0005},\n",
       "  {'C': 5000.0, 'gamma': 0.0001},\n",
       "  {'C': 5000.0, 'gamma': 0.005},\n",
       "  {'C': 10000.0, 'gamma': 0.001},\n",
       "  {'C': 10000.0, 'gamma': 0.0005},\n",
       "  {'C': 10000.0, 'gamma': 0.0001},\n",
       "  {'C': 10000.0, 'gamma': 0.005},\n",
       "  {'C': 50000.0, 'gamma': 0.001},\n",
       "  {'C': 50000.0, 'gamma': 0.0005},\n",
       "  {'C': 50000.0, 'gamma': 0.0001},\n",
       "  {'C': 50000.0, 'gamma': 0.005},\n",
       "  {'C': 100000.0, 'gamma': 0.001},\n",
       "  {'C': 100000.0, 'gamma': 0.0005},\n",
       "  {'C': 100000.0, 'gamma': 0.0001},\n",
       "  {'C': 100000.0, 'gamma': 0.005}],\n",
       " 'split0_test_score': array([0.97142857, 0.94285714, 1.        , 1.        , 1.        ,\n",
       "        1.        , 0.97142857, 0.97142857, 0.97142857, 1.        ,\n",
       "        1.        , 0.97142857, 0.97142857, 0.97142857, 1.        ,\n",
       "        0.94285714, 0.94285714, 0.97142857, 0.97142857, 0.94285714,\n",
       "        0.94285714, 0.97142857, 0.97142857, 0.94285714]),\n",
       " 'split1_test_score': array([0.87878788, 0.87878788, 0.90909091, 0.87878788, 0.87878788,\n",
       "        0.87878788, 0.87878788, 0.87878788, 0.87878788, 0.87878788,\n",
       "        0.87878788, 0.87878788, 0.87878788, 0.87878788, 0.87878788,\n",
       "        0.87878788, 0.87878788, 0.87878788, 0.87878788, 0.87878788,\n",
       "        0.87878788, 0.87878788, 0.87878788, 0.87878788]),\n",
       " 'split2_test_score': array([0.96875, 0.9375 , 0.90625, 0.96875, 1.     , 0.96875, 0.96875,\n",
       "        1.     , 1.     , 1.     , 0.96875, 1.     , 0.96875, 1.     ,\n",
       "        1.     , 1.     , 1.     , 1.     , 1.     , 1.     , 1.     ,\n",
       "        1.     , 0.96875, 1.     ]),\n",
       " 'mean_test_score': array([0.94, 0.92, 0.94, 0.95, 0.96, 0.95, 0.94, 0.95, 0.95, 0.96, 0.95,\n",
       "        0.95, 0.94, 0.95, 0.96, 0.94, 0.94, 0.95, 0.95, 0.94, 0.94, 0.95,\n",
       "        0.94, 0.94]),\n",
       " 'std_test_score': array([0.04297324, 0.0290059 , 0.04404285, 0.05158473, 0.05699548,\n",
       "        0.05158473, 0.04297324, 0.05132445, 0.05132445, 0.05699548,\n",
       "        0.05158473, 0.05132445, 0.04297324, 0.05132445, 0.05699548,\n",
       "        0.04890135, 0.04890135, 0.05132445, 0.05132445, 0.04890135,\n",
       "        0.04890135, 0.05132445, 0.04297324, 0.04890135]),\n",
       " 'rank_test_score': array([14, 24, 14,  4,  1,  4, 14,  4,  4,  1,  4,  4, 14,  4,  1, 14, 14,\n",
       "         4,  4, 14, 14,  4, 14, 14]),\n",
       " 'split0_train_score': array([0.92307692, 0.93846154, 0.87692308, 0.96923077, 0.96923077,\n",
       "        0.96923077, 0.92307692, 0.96923077, 0.96923077, 0.96923077,\n",
       "        0.96923077, 0.98461538, 0.96923077, 0.96923077, 0.96923077,\n",
       "        1.        , 0.98461538, 0.98461538, 0.96923077, 1.        ,\n",
       "        1.        , 0.98461538, 0.96923077, 1.        ]),\n",
       " 'split1_train_score': array([0.98507463, 0.97014925, 0.94029851, 1.        , 1.        ,\n",
       "        1.        , 0.98507463, 1.        , 1.        , 1.        ,\n",
       "        1.        , 1.        , 1.        , 1.        , 1.        ,\n",
       "        1.        , 1.        , 1.        , 1.        , 1.        ,\n",
       "        1.        , 1.        , 1.        , 1.        ]),\n",
       " 'split2_train_score': array([0.95588235, 0.94117647, 0.89705882, 0.95588235, 0.95588235,\n",
       "        0.95588235, 0.95588235, 0.97058824, 0.97058824, 0.97058824,\n",
       "        0.95588235, 0.97058824, 0.98529412, 0.97058824, 0.95588235,\n",
       "        0.98529412, 0.98529412, 0.97058824, 0.97058824, 0.98529412,\n",
       "        0.98529412, 0.98529412, 0.98529412, 0.98529412]),\n",
       " 'mean_train_score': array([0.95467797, 0.94992909, 0.90476014, 0.97503771, 0.97503771,\n",
       "        0.97503771, 0.95467797, 0.97993967, 0.97993967, 0.97993967,\n",
       "        0.97503771, 0.98506787, 0.98484163, 0.97993967, 0.97503771,\n",
       "        0.99509804, 0.98996983, 0.98506787, 0.97993967, 0.99509804,\n",
       "        0.99509804, 0.98996983, 0.98484163, 0.99509804]),\n",
       " 'std_train_score': array([0.02532478, 0.01434071, 0.02643979, 0.01847308, 0.01847308,\n",
       "        0.01847308, 0.02532478, 0.01419562, 0.01419562, 0.01419562,\n",
       "        0.01847308, 0.01201156, 0.01256556, 0.01419562, 0.01847308,\n",
       "        0.00693242, 0.00709781, 0.01201156, 0.01419562, 0.00693242,\n",
       "        0.00693242, 0.00709781, 0.01256556, 0.00693242])}"
      ]
     },
     "execution_count": 20,
     "metadata": {},
     "output_type": "execute_result"
    }
   ],
   "source": [
    "abc.cv_results_"
   ]
  }
 ],
 "metadata": {
  "kernelspec": {
   "display_name": "Python 3",
   "language": "python",
   "name": "python3"
  },
  "language_info": {
   "codemirror_mode": {
    "name": "ipython",
    "version": 3
   },
   "file_extension": ".py",
   "mimetype": "text/x-python",
   "name": "python",
   "nbconvert_exporter": "python",
   "pygments_lexer": "ipython3",
   "version": "3.7.6"
  }
 },
 "nbformat": 4,
 "nbformat_minor": 4
}
