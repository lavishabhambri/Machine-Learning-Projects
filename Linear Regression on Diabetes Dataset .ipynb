{
 "cells": [
  {
   "cell_type": "markdown",
   "metadata": {},
   "source": [
    "# Linear Regression - Diabetes Dataset"
   ]
  },
  {
   "cell_type": "markdown",
   "metadata": {},
   "source": [
    "Diabetes dataset is one of the datasets available in sklearn. The diabetes dataset consists of 10 physiological variables (age, sex, weight, blood pressure) measure on 442 patients, and an indication of disease progression after one year.\n",
    "You are given a Training dataset csv file with X train and Y train data. As studied in lecture, your task is to come up with Linear Regression training algorithm and thus predictions for the test dataset given.\n",
    "Read Instructions carefully -\n",
    "\n",
    "1. Use Linear Regression(in scikit learn) as a training algorithm and submit results predicted by that.\n",
    "2. Files are in csv format, use genfromtxt function in numpy to load data from csv file. Similarly you can use savetxt function to save data into a file.\n",
    "3. Submit a csv file with only predictions for X test data. File should not have any headers and should only have one column i.e. predictions.  Also prediction values in file should be upto **5** decimal places.\n",
    "4. Upon submission of predictions, the score you will get is based on coefficient of determination."
   ]
  },
  {
   "cell_type": "markdown",
   "metadata": {},
   "source": [
    "# Import the Data"
   ]
  },
  {
   "cell_type": "code",
   "execution_count": 11,
   "metadata": {},
   "outputs": [],
   "source": [
    "import numpy as np\n",
    "\n",
    "train_data = np.genfromtxt(r'C:\\Users\\DELL\\Desktop\\CodingNinjas\\training_diabetes_x_y_train.csv',delimiter = ',')\n",
    "test_data = np.genfromtxt(r'C:\\Users\\DELL\\Desktop\\CodingNinjas\\test_diabetes_x_test.csv',delimiter= ',')"
   ]
  },
  {
   "cell_type": "code",
   "execution_count": 12,
   "metadata": {},
   "outputs": [
    {
     "name": "stdout",
     "output_type": "stream",
     "text": [
      "[[-4.91050160e-02 -4.46416370e-02  1.60854917e-01 ...  2.80165070e-02\n",
      "   1.13486230e-02  3.46000000e+02]\n",
      " [-7.09002470e-02  5.06801190e-02 -8.91974840e-02 ... -1.29079420e-02\n",
      "  -5.49250870e-02  1.04000000e+02]\n",
      " [ 1.75052200e-03 -4.46416370e-02 -7.08746790e-02 ... -2.25121720e-02\n",
      "   7.20651600e-03  4.90000000e+01]\n",
      " ...\n",
      " [ 2.35457530e-02 -4.46416370e-02  7.03187030e-02 ... -1.91970480e-02\n",
      "  -9.36191100e-03  2.88000000e+02]\n",
      " [ 1.62806760e-02  5.06801190e-02  7.24743270e-02 ... -2.36445580e-02\n",
      "   6.10539060e-02  1.31000000e+02]\n",
      " [-9.14709300e-03  5.06801190e-02 -3.09956320e-02 ...  6.20931600e-03\n",
      "   2.79170510e-02  4.20000000e+01]]\n",
      "[[ 0.02354575  0.05068012 -0.0374625  ... -0.03949338 -0.03075121\n",
      "  -0.01350402]\n",
      " [-0.07816532 -0.04464164 -0.0730303  ... -0.03949338 -0.01811827\n",
      "  -0.08391984]\n",
      " [-0.03094232  0.05068012  0.00133873 ...  0.1081111   0.08379677\n",
      "   0.00306441]\n",
      " ...\n",
      " [ 0.0090156  -0.04464164 -0.01267283 ...  0.03430886  0.02337484\n",
      "  -0.0052198 ]\n",
      " [ 0.01991321 -0.04464164 -0.03422907 ...  0.03283281  0.02472532\n",
      "   0.06933812]\n",
      " [ 0.01628068  0.05068012  0.00996123 ... -0.03949338  0.01703713\n",
      "   0.00720652]]\n"
     ]
    }
   ],
   "source": [
    "print(train_data)\n",
    "print(test_data)"
   ]
  },
  {
   "cell_type": "code",
   "execution_count": 13,
   "metadata": {},
   "outputs": [
    {
     "name": "stdout",
     "output_type": "stream",
     "text": [
      "(331, 11)\n",
      "(111, 10)\n"
     ]
    }
   ],
   "source": [
    "print(train_data.shape)\n",
    "print(test_data.shape)"
   ]
  },
  {
   "cell_type": "code",
   "execution_count": 14,
   "metadata": {},
   "outputs": [],
   "source": [
    "x = train_data[:,0:10]\n",
    "y = train_data[:,10:11]"
   ]
  },
  {
   "cell_type": "code",
   "execution_count": 15,
   "metadata": {},
   "outputs": [
    {
     "name": "stdout",
     "output_type": "stream",
     "text": [
      "(331, 10)\n",
      "(331, 1)\n"
     ]
    }
   ],
   "source": [
    "print(x.shape)\n",
    "print(y.shape)"
   ]
  },
  {
   "cell_type": "markdown",
   "metadata": {},
   "source": [
    "# Get the Classifier"
   ]
  },
  {
   "cell_type": "code",
   "execution_count": 16,
   "metadata": {},
   "outputs": [],
   "source": [
    "from sklearn.linear_model import LinearRegression\n",
    "lr = LinearRegression()"
   ]
  },
  {
   "cell_type": "code",
   "execution_count": 17,
   "metadata": {},
   "outputs": [
    {
     "data": {
      "text/plain": [
       "LinearRegression(copy_X=True, fit_intercept=True, n_jobs=None, normalize=False)"
      ]
     },
     "execution_count": 17,
     "metadata": {},
     "output_type": "execute_result"
    }
   ],
   "source": [
    "lr.fit(x, y)"
   ]
  },
  {
   "cell_type": "markdown",
   "metadata": {},
   "source": [
    "# Predictions"
   ]
  },
  {
   "cell_type": "code",
   "execution_count": 18,
   "metadata": {},
   "outputs": [],
   "source": [
    "y_pred = lr.predict(test_data)"
   ]
  },
  {
   "cell_type": "markdown",
   "metadata": {},
   "source": [
    "# Saving predictions as file"
   ]
  },
  {
   "cell_type": "code",
   "execution_count": 19,
   "metadata": {},
   "outputs": [],
   "source": [
    "np.savetxt(\"Diabetes_predictions_Output.csv\", y_pred, fmt='%.5f', delimiter=',')"
   ]
  }
 ],
 "metadata": {
  "kernelspec": {
   "display_name": "Python 3",
   "language": "python",
   "name": "python3"
  },
  "language_info": {
   "codemirror_mode": {
    "name": "ipython",
    "version": 3
   },
   "file_extension": ".py",
   "mimetype": "text/x-python",
   "name": "python",
   "nbconvert_exporter": "python",
   "pygments_lexer": "ipython3",
   "version": "3.7.6"
  }
 },
 "nbformat": 4,
 "nbformat_minor": 4
}
